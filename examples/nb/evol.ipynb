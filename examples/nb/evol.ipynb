{
 "cells": [
  {
   "cell_type": "code",
   "execution_count": null,
   "metadata": {},
   "outputs": [],
   "source": [
    "import bkevol as bk"
   ]
  },
  {
   "cell_type": "code",
   "execution_count": null,
   "metadata": {},
   "outputs": [],
   "source": [
    "S = bk.Settings()"
   ]
  },
  {
   "cell_type": "code",
   "execution_count": null,
   "metadata": {
    "lines_to_next_cell": 2
   },
   "outputs": [],
   "source": [
    "#Evolution settings\n",
    "S.alphaS = 0.118\n",
    "S.freezingScale = 1.0\n",
    "S.eps  = 1e-7\n",
    "S.mu2  = 1e-2"
   ]
  },
  {
   "cell_type": "code",
   "execution_count": null,
   "metadata": {},
   "outputs": [],
   "source": [
    "S.NkT2 = 17\n",
    "S.NkT2int = 17"
   ]
  },
  {
   "cell_type": "markdown",
   "metadata": {
    "lines_to_next_cell": 2
   },
   "source": [
    "S.NkT2 = 257\n",
    "S.NkT2int = 257"
   ]
  },
  {
   "cell_type": "code",
   "execution_count": null,
   "metadata": {
    "lines_to_next_cell": 2
   },
   "outputs": [],
   "source": [
    "S.kT2Min = 1e-2\n",
    "S.kT2Max = 1e6"
   ]
  },
  {
   "cell_type": "code",
   "execution_count": null,
   "metadata": {
    "lines_to_next_cell": 2
   },
   "outputs": [],
   "source": [
    "S.Nrap = 64\n",
    "#S.Nrap = 512\n",
    "S.xMin = 1e-6\n",
    "S.xMax = 1"
   ]
  },
  {
   "cell_type": "code",
   "execution_count": null,
   "metadata": {},
   "outputs": [],
   "source": [
    "#S.kernelType = \"BFKLplain:sub\" #)\n",
    "#S.kernelType = \"BFKL:eps\" #+sub)\n",
    "S.kernelType = \"BFKL_res:Eps\" #+sub)\n",
    "#S.kernelType = \"BFKL_res_kc_simp:eps\" #+sub)\n",
    "#S.kernelType = \"BFKL_res_kc_v_r_simp:eps\" #+sub)\n",
    "#S.kernelType = \"BFKL_res_kc_full:eps\" #+sub)\n",
    "#S.kernelType = \"BFKL_res_kc_v_r_full:eps\" #+sub)\n",
    "#S.kernelType = \"BFKL_res_DGLAP:eps\"\n",
    "#S.kernelType = \"BFKL_res_kc_full_DGLAP:eps\""
   ]
  },
  {
   "cell_type": "code",
   "execution_count": null,
   "metadata": {
    "lines_to_next_cell": 2
   },
   "outputs": [],
   "source": [
    "S.funStr = \"function\"\n",
    "S.pars = [(1,2, 3),\n",
    "          (2,4., 5)]"
   ]
  },
  {
   "cell_type": "markdown",
   "metadata": {},
   "source": [
    "S.printInfo()\n",
    "import sys\n",
    "sys.exit(0)"
   ]
  },
  {
   "cell_type": "code",
   "execution_count": null,
   "metadata": {
    "lines_to_next_cell": 2
   },
   "outputs": [],
   "source": [
    "kernels = [\n",
    " \"BFKLplain:sub\",\n",
    " \"BFKL:Eps\", \"BFKL:sub\",\n",
    " \"BFKL_res:Eps\", \"BFKL_res:sub\",\n",
    " \"BFKL_res_kc_simp:Eps\", \"BFKL_res_kc_simp:sub\",\n",
    " \"BFKL_res_kc_v_r_simp:Eps\", \"BFKL_res_kc_v_r_simp:sub\",\n",
    " \"BFKL_res_kc_full:Eps\", \"BFKL_res_kc_full:sub\",\n",
    " \"BFKL_res_kc_v_r_full:Eps\", \"BFKL_res_kc_v_r_full:sub\",\n",
    " \"BFKL_res_DGLAP:Eps\",\n",
    " \"BFKL_res_kc_full_DGLAP:Eps\",\n",
    " \"BFKL_res_kc_full_DGLAP_simp_kc:Eps\",\n",
    " \"BFKL_res_kc_full_DGLAP_full_kc:Eps\",\n",
    "]"
   ]
  },
  {
   "cell_type": "code",
   "execution_count": null,
   "metadata": {},
   "outputs": [],
   "source": [
    "S.kernelType = \"BFKL:Sub\" #+sub)\n",
    "#S.kernelType = \"BFKLplain:Sub\"\n",
    "#S.kernelType = \"BFKL_res_DGLAP:Eps\"\n",
    "#S.kernelType = \"BFKL_res_DGLAP:ZEps\""
   ]
  },
  {
   "cell_type": "markdown",
   "metadata": {},
   "source": [
    "S.kernelType = \"BFKL_res_kc_full_DGLAP:Eps\"\n",
    "S.kernelType = \"BFKL_res_kc_full_DGLAP_simp_kc:Eps\"\n",
    "S.kernelType = \"BFKL_res_kc_full_DGLAP_simp_kc:ZEps\""
   ]
  },
  {
   "cell_type": "markdown",
   "metadata": {},
   "source": [
    "S.kernelType = \"BFKL_res_kc_full_DGLAP_full_kc:Eps\""
   ]
  },
  {
   "cell_type": "code",
   "execution_count": null,
   "metadata": {},
   "outputs": [],
   "source": [
    "print S.alphaS"
   ]
  },
  {
   "cell_type": "code",
   "execution_count": null,
   "metadata": {},
   "outputs": [],
   "source": [
    "#for k in kernels:\n",
    "#S.kernelType = k\n",
    "sol = bk.Solver(S)\n",
    "sol.CalcEvolKernel()"
   ]
  },
  {
   "cell_type": "markdown",
   "metadata": {},
   "source": [
    "sol.EvolveAll()\n",
    "sol.PrintBaseGrid();"
   ]
  },
  {
   "cell_type": "code",
   "execution_count": null,
   "metadata": {},
   "outputs": [],
   "source": [
    "sol.SaveEvolKernels(\"testNow.h5\")\n",
    "#sol.LoadEvolKernels(\"testNow.h5\")\n",
    "sol.EvolveAll()\n",
    "#sol.PrintBaseGrid()\n",
    "res = sol.getResult()\n",
    "k2Grid = sol.getK2grid()"
   ]
  },
  {
   "cell_type": "code",
   "execution_count": null,
   "metadata": {},
   "outputs": [],
   "source": [
    "import numpy as np\n",
    "import matplotlib.pyplot as plt\n",
    "for i,r in enumerate(res[::6]):\n",
    "    plt.loglog(k2Grid, r, label=i)\n",
    "plt.ylim(1e-7, 1e6)\n",
    "plt.xlabel('$k^2 [GeV^2]$')\n",
    "plt.ylabel('$\\phi$')\n",
    "plt.show()"
   ]
  }
 ],
 "metadata": {
  "jupytext": {
   "executable": "/usr/bin/env python",
   "main_language": "python",
   "text_representation": {
    "extension": ".py",
    "format_name": "light"
   }
  }
 },
 "nbformat": 4,
 "nbformat_minor": 2
}
