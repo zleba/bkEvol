{
 "cells": [
  {
   "cell_type": "code",
   "execution_count": null,
   "metadata": {},
   "outputs": [],
   "source": [
    "import bkevol as bk"
   ]
  },
  {
   "cell_type": "markdown",
   "metadata": {},
   "source": [
    "Load Setting object with configuration of the evolution"
   ]
  },
  {
   "cell_type": "code",
   "execution_count": null,
   "metadata": {},
   "outputs": [],
   "source": [
    "S = bk.Settings()"
   ]
  },
  {
   "cell_type": "markdown",
   "metadata": {},
   "source": [
    "Value of the $\\alpha_S(M_Z)$ and the $\\alpha_S$ freezing scale"
   ]
  },
  {
   "cell_type": "code",
   "execution_count": null,
   "metadata": {},
   "outputs": [],
   "source": [
    "S.alphaS = 0.118\n",
    "S.freezingScale = 1.0"
   ]
  },
  {
   "cell_type": "markdown",
   "metadata": {},
   "source": [
    "The regularization variable eps and the scale $\\mu$"
   ]
  },
  {
   "cell_type": "code",
   "execution_count": null,
   "metadata": {},
   "outputs": [],
   "source": [
    "S.eps  = 1e-7\n",
    "S.mu2  = 1e-2"
   ]
  },
  {
   "cell_type": "markdown",
   "metadata": {},
   "source": [
    "Number of the grid points in $k_T^2$ variable and the range in $k_T^2$"
   ]
  },
  {
   "cell_type": "code",
   "execution_count": null,
   "metadata": {},
   "outputs": [],
   "source": [
    "S.NkT2 = S.NkT2int = 17\n",
    "S.kT2Min = 1e-2\n",
    "S.kT2Max = 1e6"
   ]
  },
  {
   "cell_type": "markdown",
   "metadata": {},
   "source": [
    "Number of the grid points in $x$ variable and the xMin and xMax values"
   ]
  },
  {
   "cell_type": "code",
   "execution_count": null,
   "metadata": {},
   "outputs": [],
   "source": [
    "S.Nrap = 64\n",
    "#S.Nrap = 512\n",
    "S.xMin = 1e-6\n",
    "S.xMax = 1"
   ]
  },
  {
   "cell_type": "markdown",
   "metadata": {},
   "source": [
    "Function to be evolved (TODO)"
   ]
  },
  {
   "cell_type": "code",
   "execution_count": null,
   "metadata": {},
   "outputs": [],
   "source": [
    "S.funStr = \"function\"\n",
    "S.pars = [(1,2, 3),\n",
    "          (2,4., 5)]"
   ]
  },
  {
   "cell_type": "markdown",
   "metadata": {},
   "source": [
    "Overview of the implemented kernels"
   ]
  },
  {
   "cell_type": "code",
   "execution_count": null,
   "metadata": {},
   "outputs": [],
   "source": [
    "kernels = [\n",
    " \"BFKLplain:Sub\",\n",
    " \"BFKL:Eps\", \"BFKL:Sub\",\n",
    " \"BFKL_res:Eps\", \"BFKL_res:Sub\",\n",
    " \"BFKL_res_kc_simp:Eps\", \"BFKL_res_kc_simp:Sub\",\n",
    " \"BFKL_res_kc_v_r_simp:Eps\", \"BFKL_res_kc_v_r_simp:Sub\",\n",
    " \"BFKL_res_kc_full:Eps\", \"BFKL_res_kc_full:Sub\",\n",
    " \"BFKL_res_kc_v_r_full:Eps\", \"BFKL_res_kc_v_r_full:Sub\",\n",
    " \"BFKL_res_DGLAP:Eps\",\n",
    " \"BFKL_res_kc_full_DGLAP:Eps\",\n",
    " \"BFKL_res_kc_full_DGLAP_simp_kc:Eps\",\n",
    " \"BFKL_res_kc_full_DGLAP_full_kc:Eps\",\n",
    "]"
   ]
  },
  {
   "cell_type": "markdown",
   "metadata": {},
   "source": [
    "Evolution kernel to be used"
   ]
  },
  {
   "cell_type": "code",
   "execution_count": null,
   "metadata": {},
   "outputs": [],
   "source": [
    "S.kernelType = \"BFKL:Sub\""
   ]
  },
  {
   "cell_type": "markdown",
   "metadata": {},
   "source": [
    "Calculate the evolution kernel"
   ]
  },
  {
   "cell_type": "code",
   "execution_count": null,
   "metadata": {},
   "outputs": [],
   "source": [
    "sol = bk.Solver(S)\n",
    "sol.CalcEvolKernel()"
   ]
  },
  {
   "cell_type": "markdown",
   "metadata": {},
   "source": [
    "Posibility to save the evolution kernel"
   ]
  },
  {
   "cell_type": "code",
   "execution_count": null,
   "metadata": {},
   "outputs": [],
   "source": [
    "sol.SaveEvolKernels(\"evolKernel.h5\")\n",
    "#sol.LoadEvolKernels(\"evolKernel.h5\")"
   ]
  },
  {
   "cell_type": "markdown",
   "metadata": {},
   "source": [
    "Evolve with the function in the Settings"
   ]
  },
  {
   "cell_type": "code",
   "execution_count": null,
   "metadata": {},
   "outputs": [],
   "source": [
    "sol.EvolveAll()"
   ]
  },
  {
   "cell_type": "markdown",
   "metadata": {},
   "source": [
    "Get the result of the evolution and the grid points"
   ]
  },
  {
   "cell_type": "code",
   "execution_count": null,
   "metadata": {},
   "outputs": [],
   "source": [
    "#sol.PrintBaseGrid()\n",
    "res = sol.getResult()\n",
    "k2Grid = sol.getK2grid()"
   ]
  },
  {
   "cell_type": "markdown",
   "metadata": {},
   "source": [
    "Plot results"
   ]
  },
  {
   "cell_type": "code",
   "execution_count": null,
   "metadata": {},
   "outputs": [],
   "source": [
    "%matplotlib inline\n",
    "import numpy as np\n",
    "import matplotlib.pyplot as plt\n",
    "for i,r in enumerate(res[::6]):\n",
    "    plt.loglog(k2Grid, r, label=i)\n",
    "plt.ylim(1e-7, 1e6)\n",
    "plt.xlabel('$k^2 [GeV^2]$')\n",
    "plt.ylabel('$\\phi$')\n",
    "plt.show()"
   ]
  }
 ],
 "metadata": {
  "jupytext": {
   "executable": "/usr/bin/env python",
   "main_language": "python",
   "text_representation": {
    "extension": ".py",
    "format_name": "light"
   }
  }
 },
 "nbformat": 4,
 "nbformat_minor": 2
}
